{
 "cells": [
  {
   "cell_type": "markdown",
   "metadata": {},
   "source": [
    "# Day 0"
   ]
  },
  {
   "cell_type": "code",
   "execution_count": 1,
   "metadata": {},
   "outputs": [
    {
     "name": "stdout",
     "output_type": "stream",
     "text": [
      "\n",
      "Hello, World.\n",
      "\n"
     ]
    }
   ],
   "source": [
    "# Read a full line of input from stdin and save it to our dynamically typed variable, input_string.\n",
    "input_string = input()\n",
    "\n",
    "# Print a string literal saying \"Hello, World.\" to stdout.\n",
    "print('Hello, World.')\n",
    "\n",
    "# TODO: Write a line of code here that prints the contents of input_string to stdout.\n",
    "print(input_string)\n"
   ]
  },
  {
   "cell_type": "markdown",
   "metadata": {},
   "source": [
    "# Day 1"
   ]
  },
  {
   "cell_type": "code",
   "execution_count": 3,
   "metadata": {},
   "outputs": [
    {
     "name": "stdout",
     "output_type": "stream",
     "text": [
      "6\n",
      "26\n",
      "Is a good place to practice coding\n",
      "10\n",
      "30.0\n",
      "HackerRank Is a good place to practice coding\n"
     ]
    }
   ],
   "source": [
    "i = 4\n",
    "d = 4.0\n",
    "s = 'HackerRank '\n",
    "# Declare second integer, double, and String variables.\n",
    "a = 0\n",
    "b = 0.0\n",
    "c = \" \"\n",
    "# Read and save an integer, double, and String to your variables.\n",
    "a = int(input())\n",
    "b = float(input())\n",
    "c = str(input())\n",
    "# Print the sum of both integer variables on a new line.\n",
    "print(i + a)\n",
    "# Print the sum of the double variables on a new line.\n",
    "print(d + b)\n",
    "# Concatenate and print the String variables on a new line\n",
    "# The 's' variable above should be printed first.\n",
    "print (s+c)\n"
   ]
  },
  {
   "cell_type": "markdown",
   "metadata": {},
   "source": [
    "# Day 2"
   ]
  },
  {
   "cell_type": "code",
   "execution_count": 2,
   "metadata": {},
   "outputs": [
    {
     "name": "stdout",
     "output_type": "stream",
     "text": [
      "12\n",
      "20\n",
      "8\n",
      "15\n"
     ]
    }
   ],
   "source": [
    "import math\n",
    "import os\n",
    "import random\n",
    "import re\n",
    "import sys\n",
    "\n",
    "# Complete the solve function below.\n",
    "def solve(meal_cost, tip_percent, tax_percent):    \n",
    "    tip = (tip_percent/100) * meal_cost\n",
    "    tax = (tax_percent/100) * meal_cost\n",
    "    total = meal_cost + tip + tax\n",
    "    print(round(total))\n",
    "    \n",
    "\n",
    "if __name__ == '__main__':\n",
    "    meal_cost = float(input())\n",
    "\n",
    "    tip_percent = int(input())\n",
    "\n",
    "    tax_percent = int(input())\n",
    "\n",
    "    solve(meal_cost, tip_percent, tax_percent)\n"
   ]
  },
  {
   "cell_type": "markdown",
   "metadata": {},
   "source": [
    "# Day 3"
   ]
  },
  {
   "cell_type": "code",
   "execution_count": 13,
   "metadata": {},
   "outputs": [
    {
     "name": "stdout",
     "output_type": "stream",
     "text": [
      "24\n",
      "Not Weird\n"
     ]
    }
   ],
   "source": [
    "N = int(input())\n",
    "if N % 2 == 0:\n",
    "    if N in range (2,6):\n",
    "        print('Not Weird')\n",
    "    elif N in range (6,21):\n",
    "        print('Weird')\n",
    "    elif N > 20:\n",
    "        print('Not Weird')\n",
    "                    \n",
    "else:\n",
    "    print('Weird')"
   ]
  },
  {
   "cell_type": "code",
   "execution_count": 17,
   "metadata": {},
   "outputs": [
    {
     "name": "stdout",
     "output_type": "stream",
     "text": [
      "3\n",
      "Weird\n"
     ]
    }
   ],
   "source": [
    "# N = int(input())\n",
    "# weird = False\n",
    "# if (N % 2 != 0) or (N % 2 == 0 and N in range(6,21)):\n",
    "#         weird = True\n",
    "        \n",
    "# if weird:\n",
    "#     print('Weird')\n",
    "# else:\n",
    "#     print('Not Weird')\n",
    "\n",
    "N = int(input())\n",
    "if (N % 2 != 0) or (N % 2 == 0 and N in range(6,21)):\n",
    "    print('Weird')\n",
    "else:\n",
    "    print('Not Weird')\n",
    "\n"
   ]
  },
  {
   "cell_type": "markdown",
   "metadata": {},
   "source": [
    "# Day 4"
   ]
  },
  {
   "cell_type": "code",
   "execution_count": null,
   "metadata": {},
   "outputs": [],
   "source": [
    "class Person:\n",
    "    def __init__(self,initialAge):\n",
    "        # Add some more code to run some checks on initialAge\n",
    "        if initialAge <0:\n",
    "            self.age= 0\n",
    "            print('Age is not valid, setting age to 0.')\n",
    "        else:\n",
    "            self.age=initialAge\n",
    "    def amIOld(self):\n",
    "        # Do some computations in here and print out the correct statement to the console\n",
    "        if self.age<13:\n",
    "            print('You are young.')\n",
    "        elif self.age>=13 and self.age<18:\n",
    "            print('You are a teenager.')\n",
    "            \n",
    "        else:\n",
    "            print('You are old.')\n",
    "    def yearPasses(self):\n",
    "        # Increment the age of the person in here  \n",
    "        self.age+=1\n",
    "        \n",
    "t = int(input())\n",
    "for i in range(0, t):\n",
    "    age = int(input())         \n",
    "    p = Person(age)  \n",
    "    p.amIOld()\n",
    "    for j in range(0, 3):\n",
    "        p.yearPasses()       \n",
    "    p.amIOld()\n",
    "    print(\"\")\n"
   ]
  },
  {
   "cell_type": "markdown",
   "metadata": {},
   "source": [
    "# Day5"
   ]
  },
  {
   "cell_type": "code",
   "execution_count": 27,
   "metadata": {},
   "outputs": [
    {
     "name": "stdout",
     "output_type": "stream",
     "text": [
      "3\n",
      "3 x 1 = 3\n",
      "3 x 2 = 6\n",
      "3 x 3 = 9\n",
      "3 x 4 = 12\n",
      "3 x 5 = 15\n",
      "3 x 6 = 18\n",
      "3 x 7 = 21\n",
      "3 x 8 = 24\n",
      "3 x 9 = 27\n",
      "3 x 10 = 30\n"
     ]
    }
   ],
   "source": [
    "n = int(input())\n",
    "for i in range(1,11):\n",
    "    result = n * i\n",
    "    print(f\"{n} x {i} = {result}\")\n",
    "    \n"
   ]
  },
  {
   "cell_type": "markdown",
   "metadata": {},
   "source": [
    "# Day 6"
   ]
  },
  {
   "cell_type": "code",
   "execution_count": 67,
   "metadata": {},
   "outputs": [
    {
     "name": "stdout",
     "output_type": "stream",
     "text": [
      "2\n",
      "hack\n",
      "hc ak\n",
      "rank\n",
      "rn ak\n"
     ]
    }
   ],
   "source": [
    "S = int(input())\n",
    "\n",
    "for _ in range(0,S):\n",
    "    strings = input()\n",
    "    print(strings[0::2] + \" \"+ strings[1::2])"
   ]
  },
  {
   "cell_type": "markdown",
   "metadata": {},
   "source": [
    "# OR"
   ]
  },
  {
   "cell_type": "code",
   "execution_count": 68,
   "metadata": {},
   "outputs": [
    {
     "name": "stdout",
     "output_type": "stream",
     "text": [
      "4\n",
      "HACK\n",
      "HC AK\n",
      "RANK\n",
      "RN AK\n",
      "HAHA\n",
      "HH AA\n",
      "HA\n",
      "H A\n"
     ]
    }
   ],
   "source": [
    "for N in range(int(input())):\n",
    "    S = input()\n",
    "    print(S[::2], S[1::2])"
   ]
  },
  {
   "cell_type": "markdown",
   "metadata": {},
   "source": [
    "# Day 7"
   ]
  },
  {
   "cell_type": "code",
   "execution_count": 11,
   "metadata": {},
   "outputs": [
    {
     "name": "stdout",
     "output_type": "stream",
     "text": [
      "1 2 34 5\n"
     ]
    }
   ],
   "source": [
    " n = int(input())\n",
    "\n",
    "arr = list(map(int, input().rstrip().split()))\n",
    "\n",
    "s = map(str,arr[::-1])\n",
    "print(\" \".join(s))"
   ]
  },
  {
   "cell_type": "markdown",
   "metadata": {},
   "source": [
    "# Day8"
   ]
  },
  {
   "cell_type": "code",
   "execution_count": 16,
   "metadata": {},
   "outputs": [
    {
     "name": "stdout",
     "output_type": "stream",
     "text": [
      "2\n",
      "a 1\n",
      "b 2\n",
      "c\n",
      "a = 1\n",
      "\n",
      "b = 2\n"
     ]
    }
   ],
   "source": [
    "N = int(input())\n",
    "adress = {}\n",
    "for _ in range(N):\n",
    "    key, value = input().split()\n",
    "    adress[key] = value\n",
    "\n",
    "for i in range(N):\n",
    "    query = input()\n",
    "    if i in adress:\n",
    "        print(f\"{i} = {adress[i]}\")\n",
    "    else:\n",
    "        print('Not found')\n",
    "        \n",
    "        "
   ]
  },
  {
   "cell_type": "code",
   "execution_count": 2,
   "metadata": {},
   "outputs": [
    {
     "name": "stdout",
     "output_type": "stream",
     "text": [
      "2\n",
      "a 1\n",
      "b 2\n",
      "a\n",
      "b = 2\n",
      "c\n",
      "Not found\n"
     ]
    }
   ],
   "source": [
    "N= int(input())\n",
    "adress = {}\n",
    "for _ in range(N):\n",
    "    key, value = input().split()\n",
    "    adress[key] = value\n",
    "\n",
    "for _ in adress:\n",
    "    query = input()\n",
    "    if query in adress:\n",
    "        print(f\"{query} = {adress[i]}\")\n",
    "    else:\n",
    "        print('Not found')"
   ]
  },
  {
   "cell_type": "markdown",
   "metadata": {},
   "source": [
    "# Day9"
   ]
  },
  {
   "cell_type": "code",
   "execution_count": null,
   "metadata": {},
   "outputs": [],
   "source": []
  },
  {
   "cell_type": "code",
   "execution_count": null,
   "metadata": {},
   "outputs": [],
   "source": []
  },
  {
   "cell_type": "code",
   "execution_count": null,
   "metadata": {},
   "outputs": [],
   "source": []
  },
  {
   "cell_type": "markdown",
   "metadata": {},
   "source": [
    "# Day10"
   ]
  },
  {
   "cell_type": "code",
   "execution_count": 49,
   "metadata": {},
   "outputs": [
    {
     "name": "stdout",
     "output_type": "stream",
     "text": [
      "Enter the number you want to convert to binary1234\n",
      "The maximum number of ones in 10011010010 is 2\n"
     ]
    }
   ],
   "source": [
    "n = bin(int(input(\"Enter the number you want to convert to binary\")))\n",
    "binary_num = n[2:]\n",
    "\n",
    "max_bin = len(max(binary_num.replace('0',' ').split(), key = len))\n",
    "\n",
    "print(f\"The maximum number of ones in {binary_num} is {max_bin}\")"
   ]
  },
  {
   "cell_type": "markdown",
   "metadata": {},
   "source": [
    "# Day11"
   ]
  },
  {
   "cell_type": "code",
   "execution_count": null,
   "metadata": {},
   "outputs": [],
   "source": [
    "arr = []\n",
    "\n",
    "for _ in range(6):\n",
    "    arr.append(list(map(int, input().rstrip().split())))\n",
    "\n",
    "total = 0\n",
    "max_total = -1073741824\n",
    "\n",
    "for i in range(len(arr)):\n",
    "    for j in range(len(arr[i])):\n",
    "        if (j+2 < 6) and (i+2 < 6):\n",
    "            total = arr[i][j] + arr[i][j+1] + arr[i][j+2]+arr[i+1][j+1]+arr[i+2][j]+arr[i+2][j+1]+arr[i+2][j+2]\n",
    "            if max_total < total:\n",
    "                max_total = total\n",
    "                \n",
    "print(max_total)"
   ]
  },
  {
   "cell_type": "markdown",
   "metadata": {},
   "source": [
    "# Day12"
   ]
  },
  {
   "cell_type": "code",
   "execution_count": null,
   "metadata": {},
   "outputs": [],
   "source": [
    "class Student(Person):\n",
    "    def __init__(self, firstName, lastName, idNumber, testScores):\n",
    "        super().__init__(firstName, lastName, idNumber)\n",
    "        self.testScores = testScores\n",
    "        \n",
    "    def calculate(self):\n",
    "        total = 0\n",
    "        for testScore in self.testScores:\n",
    "            total += testScore\n",
    "            avg = total / len(self.testScores)\n",
    "            if 90 <= avg <= 100:\n",
    "            return 'O'\n",
    "            if 80 <= avg < 90:\n",
    "                return 'E'\n",
    "            if 70 <= avg < 80:\n",
    "                return 'A'\n",
    "            if 55 <= avg < 70:\n",
    "                return 'P'\n",
    "            if 40 <= avg < 55:\n",
    "                return 'D'\n",
    "            return 'T'\n"
   ]
  },
  {
   "cell_type": "markdown",
   "metadata": {},
   "source": [
    "# Day13"
   ]
  },
  {
   "cell_type": "code",
   "execution_count": null,
   "metadata": {},
   "outputs": [],
   "source": [
    "class MyBook(Book):\n",
    "    def __init__(self, title, author, price):\n",
    "        super().__init__(title, author)\n",
    "        self.price = price\n",
    "\n",
    "    def display(self):\n",
    "        print(\"Title: \" + self.title + \"\\nAuthor: \" + self.author + \"\\nPrice: \" + str(self.price))"
   ]
  },
  {
   "cell_type": "markdown",
   "metadata": {},
   "source": [
    "# Day14"
   ]
  },
  {
   "cell_type": "code",
   "execution_count": null,
   "metadata": {},
   "outputs": [],
   "source": [
    "def __init__(self, a):\n",
    "    self.__elements = a\n",
    "\n",
    "def computeDifference(self):\n",
    "    maximum = 0\n",
    "    for i in range(len(self.__elements)):\n",
    "        for j in range(len(self.__elements)):\n",
    "            absolute = abs(self.__elements[i] - self.__elements[j])\n",
    "            if absolute > maximum:\n",
    "                maximum = absolute\n",
    "\n",
    "    self.maximumDifference = maximum\n",
    "\n"
   ]
  },
  {
   "cell_type": "markdown",
   "metadata": {},
   "source": [
    "# Day15"
   ]
  },
  {
   "cell_type": "code",
   "execution_count": null,
   "metadata": {},
   "outputs": [],
   "source": [
    "def insert(self,head,data): \n",
    "    if head is None:\n",
    "        head = Node(data)\n",
    "        \n",
    "    else:\n",
    "        curr = head\n",
    "        while curr.next:\n",
    "            curr = curr.next\n",
    "        curr.next = Node(data)\n",
    "    return head\n",
    "        "
   ]
  },
  {
   "cell_type": "markdown",
   "metadata": {},
   "source": [
    "# Day16"
   ]
  },
  {
   "cell_type": "code",
   "execution_count": null,
   "metadata": {},
   "outputs": [],
   "source": [
    "try:\n",
    "    print(int(input().strip()))\n",
    "except ValueError:\n",
    "    print(\"Bad String\")"
   ]
  },
  {
   "cell_type": "markdown",
   "metadata": {},
   "source": [
    "# Day17"
   ]
  },
  {
   "cell_type": "code",
   "execution_count": null,
   "metadata": {},
   "outputs": [],
   "source": [
    "class Calculator:\n",
    "    def power(self, n, p):\n",
    "        if n < 0 or p < 0:\n",
    "            raise Exception(\"n and p should be non-negative\")\n",
    "        return pow(n, p)\n",
    "    \n",
    "myCalculator = Calculator()\n",
    "T = int(input())\n",
    "for i in range(T):\n",
    "    n, p = map(int, input().split())\n",
    "    try:\n",
    "        ans = myCalculator.power(n, p)\n",
    "        print(ans)\n",
    "    except Exception as e:\n",
    "        print(e)"
   ]
  },
  {
   "cell_type": "markdown",
   "metadata": {},
   "source": [
    "# Day18"
   ]
  },
  {
   "cell_type": "code",
   "execution_count": null,
   "metadata": {},
   "outputs": [],
   "source": [
    "import sys\n",
    "\n",
    "class Solution:\n",
    "    # Write your code here\n",
    "    def __init__(self):\n",
    "        self.stack = []\n",
    "        self.queue = []\n",
    "    def popCharacter(self):\n",
    "        return self.stack.pop()\n",
    "    def pushCharacter(self, char):\n",
    "        self.stack.append(char)\n",
    "    def dequeueCharacter(self):\n",
    "        char = self.queue[0]\n",
    "        self.queue = self.queue[1:]\n",
    "        return char\n",
    "    def enqueueCharacter(self, char):\n",
    "        self.queue.append(char)\n",
    "\n"
   ]
  },
  {
   "cell_type": "markdown",
   "metadata": {},
   "source": [
    "# Day19"
   ]
  },
  {
   "cell_type": "code",
   "execution_count": null,
   "metadata": {},
   "outputs": [],
   "source": []
  },
  {
   "cell_type": "markdown",
   "metadata": {},
   "source": [
    "# Day20"
   ]
  },
  {
   "cell_type": "code",
   "execution_count": null,
   "metadata": {},
   "outputs": [],
   "source": [
    "n = int(input().strip())\n",
    "a = [int(a_temp) for a_temp in input().strip().split(' ')]\n",
    "numSwaps = 0\n",
    "for i in range(len(a) - 1):\n",
    "    for j in range(len(a) - 1):\n",
    "        temp = 0\n",
    "        if(a[j] > a[j+1]):\n",
    "            temp = a[j+1]\n",
    "            a[j+1] = a[j]\n",
    "            a[j] = temp\n",
    "            numSwaps += 1\n",
    "\n",
    "print('Array is sorted in %d swaps.'% numSwaps)\n",
    "print('First Element: %d' % a[0])\n",
    "print('Last Element: %d' % a[-1])"
   ]
  },
  {
   "cell_type": "markdown",
   "metadata": {},
   "source": [
    "# Day21"
   ]
  },
  {
   "cell_type": "code",
   "execution_count": null,
   "metadata": {},
   "outputs": [],
   "source": [
    "from typing import TypeVar\n",
    "\n",
    "Element = TypeVar(\"Element\")\n",
    "\n",
    "\n",
    "def printArray(array: [Element]):\n",
    "    for element in array:\n",
    "        print(element)\n",
    "\n",
    "\n",
    "vInt = [1, 2, 3]\n",
    "vString = [\"Hello\", \"World\"]\n",
    "\n",
    "printArray(vInt)\n",
    "printArray(vString)"
   ]
  },
  {
   "cell_type": "markdown",
   "metadata": {},
   "source": [
    "# Day22"
   ]
  },
  {
   "cell_type": "code",
   "execution_count": null,
   "metadata": {},
   "outputs": [],
   "source": [
    "class Node:\n",
    "    def __init__(self,data):\n",
    "        self.right=self.left=None\n",
    "        self.data = data\n",
    "class Solution:\n",
    "    def insert(self,root,data):\n",
    "        if root==None:\n",
    "            return Node(data)\n",
    "        else:\n",
    "            if data<=root.data:\n",
    "                cur=self.insert(root.left,data)\n",
    "                root.left=cur\n",
    "            else:\n",
    "                cur=self.insert(root.right,data)\n",
    "                root.right=cur\n",
    "        return root\n",
    "    def getHeight(self,root):\n",
    "        #Write your code here\n",
    "        return -1 if root is None else 1 + max(self.getHeight(root.left), self.getHeight(root.right))\n",
    "    \n",
    "T=int(input())\n",
    "myTree=Solution()\n",
    "root=None\n",
    "for i in range(T):\n",
    "    data=int(input())\n",
    "    root=myTree.insert(root,data)\n",
    "    \n",
    "height=myTree.getHeight(root)\n",
    "print(height)"
   ]
  },
  {
   "cell_type": "markdown",
   "metadata": {},
   "source": [
    "# Day23"
   ]
  },
  {
   "cell_type": "code",
   "execution_count": null,
   "metadata": {},
   "outputs": [],
   "source": [
    "import sys\n",
    "\n",
    "class Node:\n",
    "    def __init__(self,data):\n",
    "        self.right=self.left=None\n",
    "        self.data = data\n",
    "        \n",
    "class Solution:\n",
    "    def insert(self,root,data):\n",
    "        if root==None:\n",
    "            return Node(data)\n",
    "        else:\n",
    "            if data<=root.data:\n",
    "                cur=self.insert(root.left,data)\n",
    "                root.left=cur\n",
    "            else:\n",
    "                cur=self.insert(root.right,data)\n",
    "                root.right=cur\n",
    "                \n",
    "        return root\n",
    "    \n",
    "    def levelOrder(self,root):\n",
    "            #Write your code here\n",
    "            queue = [root]\n",
    "            while len(queue) is not 0:\n",
    "                curr = queue[0]\n",
    "                queue = queue[1:]\n",
    "                print(str(curr.data) + \" \", end=\"\")\n",
    "                if curr.left is not None:\n",
    "                    queue.append(curr.left)\n",
    "                if curr.right is not None:\n",
    "                    queue.append(curr.right)\n",
    "                    \n",
    "                \n",
    "T=int(input())\n",
    "myTree=Solution()\n",
    "root=None\n",
    "for i in range(T):\n",
    "    data=int(input())\n",
    "    root=myTree.insert(root,data)\n",
    "myTree.levelOrder(root)\n",
    "\n"
   ]
  },
  {
   "cell_type": "markdown",
   "metadata": {},
   "source": [
    "# Day24"
   ]
  },
  {
   "cell_type": "code",
   "execution_count": null,
   "metadata": {},
   "outputs": [],
   "source": [
    "class Node:\n",
    "    def __init__(self,data):\n",
    "        self.data = data\n",
    "        self.next = None\n",
    "class Solution: \n",
    "    def insert(self,head,data):\n",
    "        p = Node(data)           \n",
    "        if head==None:\n",
    "            head=p\n",
    "        elif head.next==None:\n",
    "                head.next=p\n",
    "        else:\n",
    "            start=head\n",
    "            while(start.next!=None):\n",
    "                start=start.next\n",
    "            start.next=p\n",
    "        return head  \n",
    "    def display(self,head):\n",
    "            current = head\n",
    "            while current:\n",
    "                print(current.data,end=' ')\n",
    "                current = current.next\n",
    "    def removeDuplicates(self,head):\n",
    "        #Write your code here\n",
    "        curr = head\n",
    "        while curr is not None and curr.next is not None:\n",
    "            while curr.next is not None and curr.data is curr.next.data:\n",
    "                curr.next = curr.next.next\n",
    "            curr = curr.next\n",
    "        return head\n",
    "mylist = Solution()\n",
    "T = int(input())\n",
    "head = None\n",
    "for i in range(T):\n",
    "    data = int(input())\n",
    "    head = mylist.insert(head, data)\n",
    "head = mylist.removeDuplicates(head)\n",
    "mylist.display(head)"
   ]
  },
  {
   "cell_type": "markdown",
   "metadata": {},
   "source": [
    "# Day25"
   ]
  },
  {
   "cell_type": "code",
   "execution_count": null,
   "metadata": {},
   "outputs": [],
   "source": [
    "from itertools import count, islice\n",
    "n = int(input())\n",
    "for i in range(n):\n",
    "    x, prime = int(input()), True\n",
    "    sq = int(x**0.5)-1\n",
    "    if x<2: prime = False\n",
    "    else:\n",
    "        for num in islice(count(2), sq):\n",
    "            if not x%num:\n",
    "                prime = False\n",
    "    print(\"Prime\") if prime else print(\"Not prime\")"
   ]
  },
  {
   "cell_type": "markdown",
   "metadata": {},
   "source": [
    "# Day26"
   ]
  },
  {
   "cell_type": "code",
   "execution_count": null,
   "metadata": {},
   "outputs": [],
   "source": [
    "actually = str(input()).split(\" \")\n",
    "da = int(actually[0])\n",
    "ma = int(actually[1])\n",
    "ya = int(actually[2])\n",
    "expected = str(input()).split(\" \")\n",
    "de = int(expected[0])\n",
    "me = int(expected[1])\n",
    "ye = int(expected[2])\n",
    "\n",
    "fine = 0\n",
    "if ya > ye:\n",
    "    fine = 10000\n",
    "    if ma > me:\n",
    "        fine = (ma - me) * 500\n",
    "    elif ma == me and da > de:\n",
    "        fine = (da - de) * 15\n",
    "\n",
    "print(fine)"
   ]
  },
  {
   "cell_type": "markdown",
   "metadata": {},
   "source": [
    "# Day27"
   ]
  },
  {
   "cell_type": "code",
   "execution_count": null,
   "metadata": {},
   "outputs": [],
   "source": [
    "def minimum_index(seq):\n",
    "    if len(seq) == 0:\n",
    "        raise ValueError(\"Cannot get the minimum value index from an empty sequence\")\n",
    "    min_idx = 0\n",
    "    for i in range(1, len(seq)):\n",
    "        if seq[i] < seq[min_idx]:\n",
    "            min_idx = i\n",
    "    return min_idx\n",
    "class TestDataEmptyArray(object):\n",
    "    \n",
    "    @staticmethod\n",
    "    def get_array():\n",
    "        # complete this function\n",
    "        return list()\n",
    "\n",
    "class TestDataUniqueValues(object):\n",
    "\n",
    "    @staticmethod\n",
    "    def get_array():\n",
    "        # complete this function\n",
    "        return [5, 2, 8, 3, 1, -6, 9]\n",
    "\n",
    "    @staticmethod\n",
    "    def get_expected_result():\n",
    "        # complete this function\n",
    "        return 5\n",
    "class TestDataExactlyTwoDifferentMinimums(object):\n",
    "\n",
    "    @staticmethod\n",
    "    def get_array():\n",
    "        # complete this function\n",
    "        return [5, 2, 8, 3, 1, -6, 9, -6, 10]\n",
    "\n",
    "    @staticmethod\n",
    "    def get_expected_result():\n",
    "        # complete this function\n",
    "        return 5"
   ]
  },
  {
   "cell_type": "code",
   "execution_count": null,
   "metadata": {},
   "outputs": [],
   "source": []
  },
  {
   "cell_type": "code",
   "execution_count": null,
   "metadata": {},
   "outputs": [],
   "source": []
  },
  {
   "cell_type": "code",
   "execution_count": null,
   "metadata": {},
   "outputs": [],
   "source": []
  },
  {
   "cell_type": "code",
   "execution_count": null,
   "metadata": {},
   "outputs": [],
   "source": []
  },
  {
   "cell_type": "code",
   "execution_count": null,
   "metadata": {},
   "outputs": [],
   "source": []
  },
  {
   "cell_type": "code",
   "execution_count": null,
   "metadata": {},
   "outputs": [],
   "source": []
  },
  {
   "cell_type": "code",
   "execution_count": null,
   "metadata": {},
   "outputs": [],
   "source": []
  },
  {
   "cell_type": "code",
   "execution_count": null,
   "metadata": {},
   "outputs": [],
   "source": []
  },
  {
   "cell_type": "code",
   "execution_count": null,
   "metadata": {},
   "outputs": [],
   "source": []
  },
  {
   "cell_type": "code",
   "execution_count": null,
   "metadata": {},
   "outputs": [],
   "source": []
  },
  {
   "cell_type": "code",
   "execution_count": null,
   "metadata": {},
   "outputs": [],
   "source": []
  },
  {
   "cell_type": "code",
   "execution_count": null,
   "metadata": {},
   "outputs": [],
   "source": []
  },
  {
   "cell_type": "code",
   "execution_count": null,
   "metadata": {},
   "outputs": [],
   "source": []
  },
  {
   "cell_type": "code",
   "execution_count": null,
   "metadata": {},
   "outputs": [],
   "source": []
  }
 ],
 "metadata": {
  "kernelspec": {
   "display_name": "Python 3",
   "language": "python",
   "name": "python3"
  },
  "language_info": {
   "codemirror_mode": {
    "name": "ipython",
    "version": 3
   },
   "file_extension": ".py",
   "mimetype": "text/x-python",
   "name": "python",
   "nbconvert_exporter": "python",
   "pygments_lexer": "ipython3",
   "version": "3.8.5"
  }
 },
 "nbformat": 4,
 "nbformat_minor": 2
}
